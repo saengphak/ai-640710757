{
  "cells": [
    {
      "cell_type": "code",
      "execution_count": 1,
      "metadata": {
        "id": "c6NrGFaUGxFX"
      },
      "outputs": [],
      "source": [
        "import pandas as pd\n",
        "import numpy as np\n",
        "from datetime import datetime"
      ]
    },
    {
      "cell_type": "markdown",
      "metadata": {
        "id": "Oi2bmoemLy9E"
      },
      "source": [
        "# 1. สร้าง DataFrame จากข้อมูล"
      ]
    },
    {
      "cell_type": "code",
      "execution_count": 2,
      "metadata": {
        "id": "wxylwjnXLcNB"
      },
      "outputs": [],
      "source": [
        "data = {\n",
        "    'student_id': [64001, 64002, 64003, 64004, 64005, 64006, 64007, 64008, 64009, 64010,\n",
        "                   64011, 64012, 64013, 64014, 64015, 64016, 64017, 64018, 64019, 64020],\n",
        "    'name': ['สมชาย', 'สมหญิง', None, 'สมศักดิ์', 'สมใจ', 'กานต์', 'กิตติ', 'จิรา', 'ชนาธิป', 'ดารา',\n",
        "             'ธีระ', 'นภา', 'บุญมี', 'ปรีชา', 'พิมพ์', 'ภูมิ', 'มานี', 'ยุพา', 'รัตนา', 'ลัดดา'],\n",
        "    'age': [20.0, 21.0, None, 22.0, 19.0, 150.0, 21.0, 20.0, 23.0, 21.0,\n",
        "            None, 22.0, 20.0, 21.0, 22.0, 19.0, 20.0, 21.0, None, 22.0],\n",
        "    'gender': ['ชาย', 'หญิง', 'Male', 'ช', 'ญ', 'ชาย', 'หญิง', 'F', 'M', 'หญิง',\n",
        "               None, 'ชาย', 'หญิง', 'ชาย', 'Female', 'ช', 'ญ', 'หญิง', 'ชาย', None],\n",
        "    'faculty': ['วิทยาศาสตร์', 'วิทย์', 'Science', 'คณะวิทยาศาสตร์', 'วิศวะ', 'Engineering', 'วิศวกรรม', 'ศิลปศาสตร์', 'Arts', 'ศิลป์',\n",
        "                None, 'วิทย์', 'วิศวฯ', 'Liberal Arts', 'Sci', 'วิทยาศาสตร์', 'วิศวกรรมศาสตร์', None, 'ศิลปศาสตร์', 'Science'],\n",
        "    'GPA': [3.21, 3.45, 3.67, -1.0, 3.89, 3.12, 4.5, 2.98, 3.34, 3.56,\n",
        "            3.78, None, 3.23, 3.45, 3.67, 3.89, 3.01, 3.23, None, 3.45],\n",
        "    'height_cm': [170, 165, 175, 168, 160, 172, 158, 180, 163, 167,\n",
        "                  None, 171, 169, 164, 162, 173, 166, 161, 174, 168],\n",
        "    'weight_kg': [65, 58, None, 70, 52, 75, 48, 82, 55, 60,\n",
        "                  68, None, 72, 54, 56, 78, 62, 50, 76, 64],\n",
        "    'study_hours': [15, 20, 25, 10, 30, 12, 35, 18, 22, 28,\n",
        "                    None, 16, 24, 19, 26, 14, 21, 27, None, 23],\n",
        "    'registration_date': pd.to_datetime([\n",
        "        '2024-01-23', '2024-02-05', '2024-01-13', '2023-12-30', '2024-01-27', '2023-12-23', '2024-01-05',\n",
        "        '2024-01-23', '2024-02-11', '2024-01-03', '2024-01-07', '2023-12-26', '2023-12-26', '2024-01-08',\n",
        "        '2024-02-06', '2024-01-20', '2024-01-24', '2024-01-08', '2023-12-18', '2024-01-06'\n",
        "    ])\n",
        "}\n",
        "\n",
        "df = pd.DataFrame(data)"
      ]
    },
    {
      "cell_type": "markdown",
      "metadata": {
        "id": "oFAeWncSL90g"
      },
      "source": [
        "# 2. Cleaning Gender"
      ]
    },
    {
      "cell_type": "code",
      "execution_count": 3,
      "metadata": {
        "id": "6nDlzV8XL71n"
      },
      "outputs": [],
      "source": [
        "gender_map = {\n",
        "    'ชาย': 'Male', 'ช': 'Male', 'M': 'Male', 'Male': 'Male',\n",
        "    'หญิง': 'Female', 'ญ': 'Female', 'F': 'Female', 'Female': 'Female'\n",
        "}\n",
        "df['gender_clean'] = df['gender'].map(gender_map).fillna('Unknown')"
      ]
    },
    {
      "cell_type": "markdown",
      "metadata": {
        "id": "-t7gNcCoMIUU"
      },
      "source": [
        "# 3. Cleaning Faculty"
      ]
    },
    {
      "cell_type": "code",
      "execution_count": 4,
      "metadata": {
        "id": "_ElM14zRMOBl"
      },
      "outputs": [],
      "source": [
        "faculty_map = {\n",
        "    'วิทย์': 'วิทยาศาสตร์', 'คณะวิทยาศาสตร์': 'วิทยาศาสตร์', 'Science': 'วิทยาศาสตร์', 'Sci': 'วิทยาศาสตร์',\n",
        "    'วิศวะ': 'วิศวกรรมศาสตร์', 'วิศวฯ': 'วิศวกรรมศาสตร์', 'วิศวกรรม': 'วิศวกรรมศาสตร์', 'Engineering': 'วิศวกรรมศาสตร์',\n",
        "    'ศิลป์': 'ศิลปศาสตร์', 'ศิลปศาสตร์': 'ศิลปศาสตร์', 'Arts': 'ศิลปศาสตร์', 'Liberal Arts': 'ศิลปศาสตร์'\n",
        "}\n",
        "df['faculty_clean'] = df['faculty'].map(faculty_map).fillna('Unknown')"
      ]
    },
    {
      "cell_type": "markdown",
      "metadata": {
        "id": "kxnuS8llMSUW"
      },
      "source": [
        "# 4. Cleaning GPA"
      ]
    },
    {
      "cell_type": "code",
      "execution_count": 5,
      "metadata": {
        "id": "iTv9GRh2MUVj"
      },
      "outputs": [],
      "source": [
        "df['GPA'] = df['GPA'].apply(lambda x: np.nan if x is None or x < 0 or x > 4 else x)"
      ]
    },
    {
      "cell_type": "markdown",
      "metadata": {
        "id": "KeTzTFDXMWl2"
      },
      "source": [
        "# 5. Cleaning Age (ผิดปกติ)"
      ]
    },
    {
      "cell_type": "code",
      "execution_count": 6,
      "metadata": {
        "id": "Zna8OffZMYrC"
      },
      "outputs": [],
      "source": [
        "df['age'] = df['age'].apply(lambda x: np.nan if x is None or x < 15 or x > 30 else x)"
      ]
    },
    {
      "cell_type": "markdown",
      "metadata": {
        "id": "qEiUsDHFMbFJ"
      },
      "source": [
        "# 6. BMI Calculation"
      ]
    },
    {
      "cell_type": "code",
      "execution_count": 7,
      "metadata": {
        "id": "eCRIxFV-MdgH"
      },
      "outputs": [],
      "source": [
        "df['height_m'] = df['height_cm'] / 100\n",
        "df['BMI'] = df.apply(lambda row: row['weight_kg'] / (row['height_m'] ** 2) if pd.notnull(row['weight_kg']) and pd.notnull(row['height_m']) else np.nan, axis=1)"
      ]
    },
    {
      "cell_type": "markdown",
      "metadata": {
        "id": "99dtVjZLMhEB"
      },
      "source": [
        "# 7. Age Group Feature"
      ]
    },
    {
      "cell_type": "code",
      "execution_count": 8,
      "metadata": {
        "id": "RC6HbfQDMkTp"
      },
      "outputs": [],
      "source": [
        "def age_group(age):\n",
        "    if pd.isnull(age):\n",
        "        return 'Unknown'\n",
        "    elif age <= 20:\n",
        "        return 'วัยรุ่น'\n",
        "    elif age <= 23:\n",
        "        return 'วัยนักศึกษา'\n",
        "    else:\n",
        "        return 'วัยทำงาน'\n",
        "\n",
        "df['age_group'] = df['age'].apply(age_group)"
      ]
    },
    {
      "cell_type": "markdown",
      "metadata": {
        "id": "FBjFoA7eMmal"
      },
      "source": [
        "# 8. Study Level Feature"
      ]
    },
    {
      "cell_type": "code",
      "execution_count": 9,
      "metadata": {
        "id": "FYVCK9UQMoVd"
      },
      "outputs": [],
      "source": [
        "def study_level(hr):\n",
        "    if pd.isnull(hr):\n",
        "        return 'Unknown'\n",
        "    elif hr <= 15:\n",
        "        return 'น้อย'\n",
        "    elif hr <= 25:\n",
        "        return 'ปานกลาง'\n",
        "    else:\n",
        "        return 'มาก'\n",
        "\n",
        "df['study_level'] = df['study_hours'].apply(study_level)"
      ]
    },
    {
      "cell_type": "markdown",
      "metadata": {
        "id": "nmp1dFxaMyQd"
      },
      "source": [
        "# 9. Days since registration"
      ]
    },
    {
      "cell_type": "code",
      "execution_count": 10,
      "metadata": {
        "id": "kSMfwZFmM0IN"
      },
      "outputs": [],
      "source": [
        "today = pd.to_datetime(\"2025-08-10\")\n",
        "df['days_since_enroll'] = (today - df['registration_date']).dt.days"
      ]
    },
    {
      "cell_type": "markdown",
      "metadata": {
        "id": "TAIGGMogM2mE"
      },
      "source": [
        "# 10. จัดเรียงคอลัมน์ใหม่"
      ]
    },
    {
      "cell_type": "code",
      "execution_count": 11,
      "metadata": {
        "id": "ri8VpoS7M4ev"
      },
      "outputs": [],
      "source": [
        "cols = [\n",
        "    'student_id', 'name', 'age', 'age_group',\n",
        "    'gender_clean', 'faculty_clean', 'GPA',\n",
        "    'height_cm', 'weight_kg', 'BMI',\n",
        "    'study_hours', 'study_level', 'days_since_enroll'\n",
        "]\n",
        "cleaned_df = df[cols]"
      ]
    },
    {
      "cell_type": "markdown",
      "metadata": {
        "id": "00YXT3vvM7fG"
      },
      "source": [
        "# 11. แสดงผลทั้งหมด"
      ]
    },
    {
      "cell_type": "code",
      "execution_count": 12,
      "metadata": {
        "colab": {
          "base_uri": "https://localhost:8080/"
        },
        "id": "icEqRkM3M9mZ",
        "outputId": "2ed4ceed-b9c9-45da-c11a-c6bb1aaea760"
      },
      "outputs": [
        {
          "name": "stdout",
          "output_type": "stream",
          "text": [
            "    student_id      name   age    age_group gender_clean   faculty_clean  \\\n",
            "0        64001     สมชาย  20.0      วัยรุ่น         Male         Unknown   \n",
            "1        64002    สมหญิง  21.0  วัยนักศึกษา       Female     วิทยาศาสตร์   \n",
            "2        64003      None   NaN      Unknown         Male     วิทยาศาสตร์   \n",
            "3        64004  สมศักดิ์  22.0  วัยนักศึกษา         Male     วิทยาศาสตร์   \n",
            "4        64005      สมใจ  19.0      วัยรุ่น       Female  วิศวกรรมศาสตร์   \n",
            "5        64006     กานต์   NaN      Unknown         Male  วิศวกรรมศาสตร์   \n",
            "6        64007     กิตติ  21.0  วัยนักศึกษา       Female  วิศวกรรมศาสตร์   \n",
            "7        64008      จิรา  20.0      วัยรุ่น       Female      ศิลปศาสตร์   \n",
            "8        64009    ชนาธิป  23.0  วัยนักศึกษา         Male      ศิลปศาสตร์   \n",
            "9        64010      ดารา  21.0  วัยนักศึกษา       Female      ศิลปศาสตร์   \n",
            "10       64011      ธีระ   NaN      Unknown      Unknown         Unknown   \n",
            "11       64012       นภา  22.0  วัยนักศึกษา         Male     วิทยาศาสตร์   \n",
            "12       64013     บุญมี  20.0      วัยรุ่น       Female  วิศวกรรมศาสตร์   \n",
            "13       64014     ปรีชา  21.0  วัยนักศึกษา         Male      ศิลปศาสตร์   \n",
            "14       64015     พิมพ์  22.0  วัยนักศึกษา       Female     วิทยาศาสตร์   \n",
            "15       64016      ภูมิ  19.0      วัยรุ่น         Male         Unknown   \n",
            "16       64017      มานี  20.0      วัยรุ่น       Female         Unknown   \n",
            "17       64018      ยุพา  21.0  วัยนักศึกษา       Female         Unknown   \n",
            "18       64019     รัตนา   NaN      Unknown         Male      ศิลปศาสตร์   \n",
            "19       64020     ลัดดา  22.0  วัยนักศึกษา      Unknown     วิทยาศาสตร์   \n",
            "\n",
            "     GPA  height_cm  weight_kg        BMI  study_hours study_level  \\\n",
            "0   3.21      170.0       65.0  22.491349         15.0        น้อย   \n",
            "1   3.45      165.0       58.0  21.303949         20.0     ปานกลาง   \n",
            "2   3.67      175.0        NaN        NaN         25.0     ปานกลาง   \n",
            "3    NaN      168.0       70.0  24.801587         10.0        น้อย   \n",
            "4   3.89      160.0       52.0  20.312500         30.0         มาก   \n",
            "5   3.12      172.0       75.0  25.351541         12.0        น้อย   \n",
            "6    NaN      158.0       48.0  19.227688         35.0         มาก   \n",
            "7   2.98      180.0       82.0  25.308642         18.0     ปานกลาง   \n",
            "8   3.34      163.0       55.0  20.700817         22.0     ปานกลาง   \n",
            "9   3.56      167.0       60.0  21.513859         28.0         มาก   \n",
            "10  3.78        NaN       68.0        NaN          NaN     Unknown   \n",
            "11   NaN      171.0        NaN        NaN         16.0     ปานกลาง   \n",
            "12  3.23      169.0       72.0  25.209201         24.0     ปานกลาง   \n",
            "13  3.45      164.0       54.0  20.077335         19.0     ปานกลาง   \n",
            "14  3.67      162.0       56.0  21.338211         26.0         มาก   \n",
            "15  3.89      173.0       78.0  26.061679         14.0        น้อย   \n",
            "16  3.01      166.0       62.0  22.499637         21.0     ปานกลาง   \n",
            "17  3.23      161.0       50.0  19.289379         27.0         มาก   \n",
            "18   NaN      174.0       76.0  25.102391          NaN     Unknown   \n",
            "19  3.45      168.0       64.0  22.675737         23.0     ปานกลาง   \n",
            "\n",
            "    days_since_enroll  \n",
            "0                 565  \n",
            "1                 552  \n",
            "2                 575  \n",
            "3                 589  \n",
            "4                 561  \n",
            "5                 596  \n",
            "6                 583  \n",
            "7                 565  \n",
            "8                 546  \n",
            "9                 585  \n",
            "10                581  \n",
            "11                593  \n",
            "12                593  \n",
            "13                580  \n",
            "14                551  \n",
            "15                568  \n",
            "16                564  \n",
            "17                580  \n",
            "18                601  \n",
            "19                582  \n"
          ]
        }
      ],
      "source": [
        "pd.set_option('display.max_columns', None)\n",
        "pd.set_option('display.max_rows', None)\n",
        "print(cleaned_df)"
      ]
    }
  ],
  "metadata": {
    "colab": {
      "provenance": []
    },
    "kernelspec": {
      "display_name": "Python 3",
      "name": "python3"
    },
    "language_info": {
      "codemirror_mode": {
        "name": "ipython",
        "version": 3
      },
      "file_extension": ".py",
      "mimetype": "text/x-python",
      "name": "python",
      "nbconvert_exporter": "python",
      "pygments_lexer": "ipython3",
      "version": "3.12.1"
    }
  },
  "nbformat": 4,
  "nbformat_minor": 0
}
